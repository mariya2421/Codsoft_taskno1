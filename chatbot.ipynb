{
  "cells": [
    {
      "cell_type": "markdown",
      "metadata": {
        "id": "view-in-github",
        "colab_type": "text"
      },
      "source": [
        "<a href=\"https://colab.research.google.com/github/mariya2421/Codsoft_taskno1/blob/main/chatbot.ipynb\" target=\"_parent\"><img src=\"https://colab.research.google.com/assets/colab-badge.svg\" alt=\"Open In Colab\"/></a>"
      ]
    },
    {
      "cell_type": "code",
      "execution_count": null,
      "metadata": {
        "colab": {
          "background_save": true
        },
        "id": "K-AYlLI-jCOC",
        "outputId": "f6a9546d-9c43-42c1-8b4a-9b9428b646f7"
      },
      "outputs": [
        {
          "name": "stdout",
          "output_type": "stream",
          "text": [
            "Requirement already satisfied: nltk in /usr/local/lib/python3.10/dist-packages (3.8.1)\n",
            "Requirement already satisfied: click in /usr/local/lib/python3.10/dist-packages (from nltk) (8.1.7)\n",
            "Requirement already satisfied: joblib in /usr/local/lib/python3.10/dist-packages (from nltk) (1.3.2)\n",
            "Requirement already satisfied: regex>=2021.8.3 in /usr/local/lib/python3.10/dist-packages (from nltk) (2023.6.3)\n",
            "Requirement already satisfied: tqdm in /usr/local/lib/python3.10/dist-packages (from nltk) (4.66.1)\n"
          ]
        }
      ],
      "source": [
        "!pip install nltk"
      ]
    },
    {
      "cell_type": "code",
      "execution_count": null,
      "metadata": {
        "id": "4bBFjlkt9ulT"
      },
      "outputs": [],
      "source": []
    },
    {
      "cell_type": "code",
      "execution_count": null,
      "metadata": {
        "colab": {
          "base_uri": "https://localhost:8080/"
        },
        "id": "fN6xdkmvqw4F",
        "outputId": "4cdcfdee-c578-478a-bd76-e9ac3d1bd25a"
      },
      "outputs": [
        {
          "output_type": "stream",
          "name": "stdout",
          "text": [
            "What is your name?\n",
            "mariya\n",
            "Hi mariya, I am a chatbot. How can I assist you today?\n",
            "i have some questions\n",
            "You: do you like pizza\n",
            "ChatBot: I might not have taste buds, but I've heard people love pizza. What's your go-to pizza order?\n",
            "You: cheese pizza\n",
            "ChatBot: I might not have taste buds, but I've heard people love pizza. What's your go-to pizza order?\n",
            "You: what are your hobbies\n",
            "ChatBot: I don't have hobbies, but I'm here to chat. Do you have any interesting hobbies?\n",
            "You: no\n",
            "ChatBot: I didn't quite catch that. Could you elaborate?\n",
            "You: bye\n",
            "ChatBot: Goodbye! Have a great day.\n"
          ]
        }
      ],
      "source": [
        "import random\n",
        "import re\n",
        "\n",
        "class MyChatBot:\n",
        "    # Customized responses\n",
        "    my_responses = {\n",
        "        'greeting_response': [\"Hello! How can I help you today?\", \"Hi there! What brings you here?\", \"Greetings! What can I assist you with?\"],\n",
        "        'hobbies_question': [\"I'm just a chatbot, so no hobbies for me. How about you? What are your hobbies?\", \"I don't have hobbies, but I'm here to chat. Do you have any interesting hobbies?\", \"Hobbies? I'm here to chat with you. What do you enjoy doing in your free time?\"],\n",
        "        'favorite_color_question': [\"I don't have a favorite color. What's yours?\", \"Colors are interesting. What's your favorite color?\", \"I'm not programmed to have a favorite color, but I'd love to hear about yours.\"],\n",
        "        'pizza_preference': [\"As a chatbot, I don't eat, but I can talk about pizza! What's your favorite type of pizza?\", \"Pizza is a popular choice! Do you have a favorite pizza topping?\", \"I might not have taste buds, but I've heard people love pizza. What's your go-to pizza order?\"],\n",
        "        'new_custom_intent': [\"That's an interesting question! I'm here to chat and learn. What made you ask that?\", \"I haven't thought about that before. Why do you find it intriguing?\", \"Your question got me thinking! What sparked your curiosity about this?\"]\n",
        "    }\n",
        "\n",
        "    # Exit commands\n",
        "    exit_commands = [\"quit\", \"pause\", \"exit\", \"goodbye\", \"bye\", \"later\"]\n",
        "\n",
        "    def __init__(self):\n",
        "        self.custom_babble = {\n",
        "            'hobbies_question': r'(?:.*\\s*hobbies.*)',\n",
        "            'favorite_color_question': r'(?:.*\\s*favorite\\s*color.*)',\n",
        "            'pizza_preference': r'(?:.*\\s*pizza.*)',\n",
        "            'new_custom_intent': r'(?:.*\\s*new.*|.*\\s*interesting.*|.*\\s*intriguing.*)'\n",
        "        }\n",
        "\n",
        "    def greet(self):\n",
        "        self.name = input(\"What is your name?\\n\")\n",
        "        will_help = input(f\"Hi {self.name}, I am a chatbot. How can I assist you today?\\n\")\n",
        "        if will_help.lower() == 'no':\n",
        "            print(\"Okay, have a great day!\")\n",
        "        else:\n",
        "            self.chat()\n",
        "\n",
        "    def make_exit(self, reply):\n",
        "        return reply.lower() in self.exit_commands\n",
        "\n",
        "    def chat(self):\n",
        "        while True:\n",
        "            reply = input(\"You: \").lower()\n",
        "            if self.make_exit(reply):\n",
        "                print(\"ChatBot: Goodbye! Have a great day.\")\n",
        "                break\n",
        "\n",
        "            for intent, regex_pattern in self.custom_babble.items():\n",
        "                found_match = re.search(regex_pattern, reply)\n",
        "                if found_match:\n",
        "                    self.handle_custom_intent(intent)\n",
        "                    break\n",
        "            else:\n",
        "                self.handle_no_match_intent()\n",
        "\n",
        "    def handle_custom_intent(self, intent):\n",
        "        response = random.choice(self.my_responses.get(intent, [\"I'm not sure how to respond to that.\"]))\n",
        "        print(\"ChatBot:\", response)\n",
        "\n",
        "    def handle_no_match_intent(self):\n",
        "        responses = [\"I'm not sure what you mean. Can you provide more details?\", \"I didn't quite catch that. Could you elaborate?\", \"It seems I didn't understand. Can you rephrase that?\"]\n",
        "        response = random.choice(responses)\n",
        "        print(\"ChatBot:\", response)\n",
        "\n",
        "# Instantiate and run the chatbot\n",
        "my_chatbot = MyChatBot()\n",
        "my_chatbot.greet()\n"
      ]
    }
  ],
  "metadata": {
    "colab": {
      "provenance": [],
      "authorship_tag": "ABX9TyM7j2C23mJPp8wmG+08mXXV",
      "include_colab_link": true
    },
    "kernelspec": {
      "display_name": "Python 3",
      "name": "python3"
    },
    "language_info": {
      "name": "python"
    }
  },
  "nbformat": 4,
  "nbformat_minor": 0
}